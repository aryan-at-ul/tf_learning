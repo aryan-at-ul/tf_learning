{
  "nbformat": 4,
  "nbformat_minor": 0,
  "metadata": {
    "colab": {
      "name": "tensors_basics.ipynb",
      "provenance": [],
      "collapsed_sections": [],
      "authorship_tag": "ABX9TyN54agaoiBFtQ2DBaRPq1Vr",
      "include_colab_link": true
    },
    "kernelspec": {
      "name": "python3",
      "display_name": "Python 3"
    },
    "language_info": {
      "name": "python"
    }
  },
  "cells": [
    {
      "cell_type": "markdown",
      "metadata": {
        "id": "view-in-github",
        "colab_type": "text"
      },
      "source": [
        "<a href=\"https://colab.research.google.com/github/aryan-at-ul/tf_learning/blob/main/tensors_basics.ipynb\" target=\"_parent\"><img src=\"https://colab.research.google.com/assets/colab-badge.svg\" alt=\"Open In Colab\"/></a>"
      ]
    },
    {
      "cell_type": "code",
      "execution_count": 1,
      "metadata": {
        "id": "4b5RQwj6cZ9O"
      },
      "outputs": [],
      "source": [
        "import tensorflow as tf"
      ]
    },
    {
      "cell_type": "code",
      "source": [
        "print(tf.__version__)"
      ],
      "metadata": {
        "colab": {
          "base_uri": "https://localhost:8080/"
        },
        "id": "rF9Twy5hcdEs",
        "outputId": "627b6775-acb4-4fab-f4b4-5fd50c5529f9"
      },
      "execution_count": 2,
      "outputs": [
        {
          "output_type": "stream",
          "name": "stdout",
          "text": [
            "2.8.0\n"
          ]
        }
      ]
    },
    {
      "cell_type": "code",
      "source": [
        "#constants in tensoflow, not very usefull  , unmutable in nature \n",
        "scalar = tf.constant(7)\n",
        "print(scalar) # note the shape is empty !! 0 order tensor \n",
        "# https://www.tensorflow.org/api_docs/python/tf/constant\n",
        "print(scalar.ndim)\n",
        "\n",
        "vector = tf.constant([10,11])\n",
        "print(vector)\n",
        "print(vector.ndim)\n",
        "\n",
        "\n",
        "matrix = tf.constant([[10,11],[12,13]])\n",
        "print(matrix)\n",
        "print(matrix.ndim)\n",
        "\n",
        "\n",
        "matrix2 = tf.constant([[10.,11.],[12.,13.]],dtype = \"float16\")\n",
        "print(matrix2)\n",
        "print(matrix2.ndim)\n",
        "\n",
        "\n",
        "tensor = tf.constant([[[1,2,3],\n",
        "                       [4,5,6]],\n",
        "                      [[1,2,3],\n",
        "                      [4,5,6]],\n",
        "                      [[1,2,3],\n",
        "                       [1,2,3],\n",
        "                       ]\n",
        "                      ])\n",
        "\n",
        "print(tensor)\n",
        "print(tensor.ndim)"
      ],
      "metadata": {
        "colab": {
          "base_uri": "https://localhost:8080/"
        },
        "id": "c5iUxnzYcycO",
        "outputId": "f10dd215-7f2c-4f7a-98b8-21583447c6a9"
      },
      "execution_count": 12,
      "outputs": [
        {
          "output_type": "stream",
          "name": "stdout",
          "text": [
            "tf.Tensor(7, shape=(), dtype=int32)\n",
            "0\n",
            "tf.Tensor([10 11], shape=(2,), dtype=int32)\n",
            "1\n",
            "tf.Tensor(\n",
            "[[10 11]\n",
            " [12 13]], shape=(2, 2), dtype=int32)\n",
            "2\n",
            "tf.Tensor(\n",
            "[[10. 11.]\n",
            " [12. 13.]], shape=(2, 2), dtype=float16)\n",
            "2\n",
            "tf.Tensor(\n",
            "[[[1 2 3]\n",
            "  [4 5 6]]\n",
            "\n",
            " [[1 2 3]\n",
            "  [4 5 6]]\n",
            "\n",
            " [[1 2 3]\n",
            "  [1 2 3]]], shape=(3, 2, 3), dtype=int32)\n",
            "3\n"
          ]
        }
      ]
    },
    {
      "cell_type": "code",
      "source": [
        "# tensor using variables  https://www.tensorflow.org/api_docs/python/tf/Variable\n",
        "#mutable tensor \n",
        "\n",
        "t1 = tf.Variable([10,7])\n",
        "# t2 = tf.Variable([12,12])\n",
        "t1[0].assign(7) # this is how you change elements in a tensor\n",
        "\n",
        "t1"
      ],
      "metadata": {
        "colab": {
          "base_uri": "https://localhost:8080/"
        },
        "id": "AuL4NVlUdJjB",
        "outputId": "43abca30-b104-4bc9-b39f-6bcbaee133f1"
      },
      "execution_count": 17,
      "outputs": [
        {
          "output_type": "execute_result",
          "data": {
            "text/plain": [
              "<tf.Variable 'Variable:0' shape=(2,) dtype=int32, numpy=array([7, 7], dtype=int32)>"
            ]
          },
          "metadata": {},
          "execution_count": 17
        }
      ]
    },
    {
      "cell_type": "code",
      "source": [
        "# creating random tensors, for weights and stuff etc\n",
        "# https://www.tensorflow.org/api_docs/python/tf/random/uniform  or normal or maybe someother \n",
        "\n",
        "t1 = tf.random.Generator.from_seed(42) # check all possible stuff in Generator. fx\n",
        "t1 = t1.normal(shape = (3,3))\n",
        "print(t1)\n",
        "print(t1.ndim)\n",
        "\n",
        "t2 = tf.random.Generator.from_seed(42) \n",
        "t2 = t2.normal(shape = (3,3))\n",
        "\n",
        "t1, t2, t1 == t2  # this guy is true because we used that seed 42 while creating both tensors\n"
      ],
      "metadata": {
        "colab": {
          "base_uri": "https://localhost:8080/"
        },
        "id": "y4EOooYej4uM",
        "outputId": "2d61a0e7-05df-46a3-ac3d-b40bf0666932"
      },
      "execution_count": 24,
      "outputs": [
        {
          "output_type": "stream",
          "name": "stdout",
          "text": [
            "tf.Tensor(\n",
            "[[-0.7565803  -0.06854702  0.07595026]\n",
            " [-1.2573844  -0.23193763 -1.8107855 ]\n",
            " [ 0.09988727 -0.50998646 -0.7535805 ]], shape=(3, 3), dtype=float32)\n",
            "2\n"
          ]
        },
        {
          "output_type": "execute_result",
          "data": {
            "text/plain": [
              "(<tf.Tensor: shape=(3, 3), dtype=float32, numpy=\n",
              " array([[-0.7565803 , -0.06854702,  0.07595026],\n",
              "        [-1.2573844 , -0.23193763, -1.8107855 ],\n",
              "        [ 0.09988727, -0.50998646, -0.7535805 ]], dtype=float32)>,\n",
              " <tf.Tensor: shape=(3, 3), dtype=float32, numpy=\n",
              " array([[-0.7565803 , -0.06854702,  0.07595026],\n",
              "        [-1.2573844 , -0.23193763, -1.8107855 ],\n",
              "        [ 0.09988727, -0.50998646, -0.7535805 ]], dtype=float32)>,\n",
              " <tf.Tensor: shape=(3, 3), dtype=bool, numpy=\n",
              " array([[ True,  True,  True],\n",
              "        [ True,  True,  True],\n",
              "        [ True,  True,  True]])>)"
            ]
          },
          "metadata": {},
          "execution_count": 24
        }
      ]
    },
    {
      "cell_type": "code",
      "source": [
        "# shuffling the orders in tensors // part of manipulating the tensors !!! \n",
        "# shuffling comes handy when trying to think in terms of training data set, should be nice variation there so that network learns variety overt the data set \n",
        "#now listen to party anthem : Everyday I'm shuffling ,Shuffling, shuffling\n",
        "# https://www.tensorflow.org/api_docs/python/tf/random/shuffle\n",
        "print(t2)\n",
        "\n",
        "t3 = tf.random.shuffle(t2,seed = 42) # this way seed wont make a difference ok !!!  this is operation level seed, this used for randominzing\n",
        "\n",
        "print(t3)\n",
        "\n",
        "# tf.random.set_seed(42) # global level seed  IMPORTANT\n",
        "\n",
        "t3 = tf.random.shuffle(t2,seed = 42)\n",
        "\n",
        "print(t3)\n"
      ],
      "metadata": {
        "colab": {
          "base_uri": "https://localhost:8080/"
        },
        "id": "quNw8VjTmV5g",
        "outputId": "005e6b27-64b3-422a-bffd-1bd703e44138"
      },
      "execution_count": 29,
      "outputs": [
        {
          "output_type": "stream",
          "name": "stdout",
          "text": [
            "tf.Tensor(\n",
            "[[-0.7565803  -0.06854702  0.07595026]\n",
            " [-1.2573844  -0.23193763 -1.8107855 ]\n",
            " [ 0.09988727 -0.50998646 -0.7535805 ]], shape=(3, 3), dtype=float32)\n",
            "tf.Tensor(\n",
            "[[ 0.09988727 -0.50998646 -0.7535805 ]\n",
            " [-0.7565803  -0.06854702  0.07595026]\n",
            " [-1.2573844  -0.23193763 -1.8107855 ]], shape=(3, 3), dtype=float32)\n",
            "tf.Tensor(\n",
            "[[ 0.09988727 -0.50998646 -0.7535805 ]\n",
            " [-0.7565803  -0.06854702  0.07595026]\n",
            " [-1.2573844  -0.23193763 -1.8107855 ]], shape=(3, 3), dtype=float32)\n"
          ]
        }
      ]
    },
    {
      "cell_type": "code",
      "source": [
        "# creating tensors from numpy , very very important, jesus said that !!!\n",
        "import numpy as np\n",
        "t0 = tf.zeros([3,3])\n",
        "t1 = tf.ones([3,3])\n",
        "print(t0)\n",
        "print(t1)\n",
        "\n",
        "#converting numopy arrays into tensors \n",
        "\n",
        "na = np.arange(1,25,dtype = np.int32)\n",
        "print(\"numpy array:\",na)\n",
        "tna = tf.constant(na)\n",
        "print(\"tensor from numpy\",tna)\n",
        "\n",
        "tna = tf.constant(na, shape = (2,3,4))\n",
        "print(tna)\n",
        "\n",
        "tna = tf.constant(na, shape = (3,1,8))\n",
        "print(tna)\n",
        "\n",
        "# batches , each batch  and x and y value this is one ex like to create training data\n",
        "tna = tf.constant(na, shape = (3,4,2))\n",
        "print(tna)"
      ],
      "metadata": {
        "colab": {
          "base_uri": "https://localhost:8080/"
        },
        "id": "KIKUc7SpovYX",
        "outputId": "bb442602-e033-4fd5-afd8-1acb0e1429dd"
      },
      "execution_count": 39,
      "outputs": [
        {
          "output_type": "stream",
          "name": "stdout",
          "text": [
            "tf.Tensor(\n",
            "[[0. 0. 0.]\n",
            " [0. 0. 0.]\n",
            " [0. 0. 0.]], shape=(3, 3), dtype=float32)\n",
            "tf.Tensor(\n",
            "[[1. 1. 1.]\n",
            " [1. 1. 1.]\n",
            " [1. 1. 1.]], shape=(3, 3), dtype=float32)\n",
            "numpy array: [ 1  2  3  4  5  6  7  8  9 10 11 12 13 14 15 16 17 18 19 20 21 22 23 24]\n",
            "tensor from numpy tf.Tensor([ 1  2  3  4  5  6  7  8  9 10 11 12 13 14 15 16 17 18 19 20 21 22 23 24], shape=(24,), dtype=int32)\n",
            "tf.Tensor(\n",
            "[[[ 1  2  3  4]\n",
            "  [ 5  6  7  8]\n",
            "  [ 9 10 11 12]]\n",
            "\n",
            " [[13 14 15 16]\n",
            "  [17 18 19 20]\n",
            "  [21 22 23 24]]], shape=(2, 3, 4), dtype=int32)\n",
            "tf.Tensor(\n",
            "[[[ 1  2  3  4  5  6  7  8]]\n",
            "\n",
            " [[ 9 10 11 12 13 14 15 16]]\n",
            "\n",
            " [[17 18 19 20 21 22 23 24]]], shape=(3, 1, 8), dtype=int32)\n",
            "tf.Tensor(\n",
            "[[[ 1  2]\n",
            "  [ 3  4]\n",
            "  [ 5  6]\n",
            "  [ 7  8]]\n",
            "\n",
            " [[ 9 10]\n",
            "  [11 12]\n",
            "  [13 14]\n",
            "  [15 16]]\n",
            "\n",
            " [[17 18]\n",
            "  [19 20]\n",
            "  [21 22]\n",
            "  [23 24]]], shape=(3, 4, 2), dtype=int32)\n"
          ]
        }
      ]
    },
    {
      "cell_type": "code",
      "source": [
        "# getting attribute information from a tensor \n",
        "# shape \n",
        "# rank (dimenstion)  this is not like rank of a matrix an all zero matrix will also have dim of 2, this is not matrix rank\n",
        "# axis \n",
        "# size , all elements in there\n",
        "\n",
        "\n",
        "tf4 = tf.zeros(shape = [2,3,4,5])\n",
        "print(tf4)\n",
        "\n",
        "print(tf4.shape)\n",
        "\n",
        "print(tf4.ndim)\n",
        "\n",
        "print(tf.size(tf4))\n",
        "\n",
        "\n",
        "print(tf4.dtype)\n",
        "\n",
        "\n",
        "print(tf4.shape[0]) # elements along 0 axis\n",
        "\n",
        "print(tf4.shape[-1]) # elements in last axis that is  i = 3 here "
      ],
      "metadata": {
        "colab": {
          "base_uri": "https://localhost:8080/"
        },
        "id": "ZrFe04Ci8hFN",
        "outputId": "64d112a9-cdb8-4476-ef52-aeb840bc33f5"
      },
      "execution_count": 47,
      "outputs": [
        {
          "output_type": "stream",
          "name": "stdout",
          "text": [
            "tf.Tensor(\n",
            "[[[[0. 0. 0. 0. 0.]\n",
            "   [0. 0. 0. 0. 0.]\n",
            "   [0. 0. 0. 0. 0.]\n",
            "   [0. 0. 0. 0. 0.]]\n",
            "\n",
            "  [[0. 0. 0. 0. 0.]\n",
            "   [0. 0. 0. 0. 0.]\n",
            "   [0. 0. 0. 0. 0.]\n",
            "   [0. 0. 0. 0. 0.]]\n",
            "\n",
            "  [[0. 0. 0. 0. 0.]\n",
            "   [0. 0. 0. 0. 0.]\n",
            "   [0. 0. 0. 0. 0.]\n",
            "   [0. 0. 0. 0. 0.]]]\n",
            "\n",
            "\n",
            " [[[0. 0. 0. 0. 0.]\n",
            "   [0. 0. 0. 0. 0.]\n",
            "   [0. 0. 0. 0. 0.]\n",
            "   [0. 0. 0. 0. 0.]]\n",
            "\n",
            "  [[0. 0. 0. 0. 0.]\n",
            "   [0. 0. 0. 0. 0.]\n",
            "   [0. 0. 0. 0. 0.]\n",
            "   [0. 0. 0. 0. 0.]]\n",
            "\n",
            "  [[0. 0. 0. 0. 0.]\n",
            "   [0. 0. 0. 0. 0.]\n",
            "   [0. 0. 0. 0. 0.]\n",
            "   [0. 0. 0. 0. 0.]]]], shape=(2, 3, 4, 5), dtype=float32)\n",
            "(2, 3, 4, 5)\n",
            "4\n",
            "tf.Tensor(120, shape=(), dtype=int32)\n",
            "<dtype: 'float32'>\n",
            "2\n",
            "5\n"
          ]
        }
      ]
    },
    {
      "cell_type": "code",
      "source": [
        "# indexing tensors just like lists \n",
        "\n",
        "# get first 2 elements from each dimention \n",
        "\n",
        "print(tf4[:2,:2,:2,:2]) # slices 2 element in each dimention\n",
        "\n",
        "# get first elemnt from each except the final one \n",
        "\n",
        "print(tf4[:1,:1,:1,:]) # to practice more this is important"
      ],
      "metadata": {
        "colab": {
          "base_uri": "https://localhost:8080/"
        },
        "id": "tYgb46KtAonZ",
        "outputId": "5d1e3b46-0a90-45cd-e379-29992d9bf15c"
      },
      "execution_count": 50,
      "outputs": [
        {
          "output_type": "stream",
          "name": "stdout",
          "text": [
            "tf.Tensor(\n",
            "[[[[0. 0.]\n",
            "   [0. 0.]]\n",
            "\n",
            "  [[0. 0.]\n",
            "   [0. 0.]]]\n",
            "\n",
            "\n",
            " [[[0. 0.]\n",
            "   [0. 0.]]\n",
            "\n",
            "  [[0. 0.]\n",
            "   [0. 0.]]]], shape=(2, 2, 2, 2), dtype=float32)\n",
            "tf.Tensor([[[[0. 0. 0. 0. 0.]]]], shape=(1, 1, 1, 5), dtype=float32)\n"
          ]
        }
      ]
    },
    {
      "cell_type": "code",
      "source": [
        "#changing and adding dim in an exisitng tensor \n",
        "\n",
        "tf2 = tf.zeros(shape = [2,2])\n",
        "tf2 = tf.constant([[1,2],[3,4]])\n",
        "print(tf2)"
      ],
      "metadata": {
        "colab": {
          "base_uri": "https://localhost:8080/"
        },
        "id": "zxbX2cHxB7W4",
        "outputId": "121161c6-c2e4-46fd-9492-38f2ddb370e3"
      },
      "execution_count": 54,
      "outputs": [
        {
          "output_type": "stream",
          "name": "stdout",
          "text": [
            "tf.Tensor(\n",
            "[[1 2]\n",
            " [3 4]], shape=(2, 2), dtype=int32)\n"
          ]
        }
      ]
    },
    {
      "cell_type": "code",
      "source": [
        "print(tf2[:,-1]) # last elements last row elements\n",
        "\n",
        "# this https://stackoverflow.com/a/64312636/4416197 answer explains additon at end or start\n",
        "tf2_new = tf2[...,tf.newaxis] # this can be written as tf2[::::,tf.newaxis] but : should match nums of dimentions better to use 3 commas for all\n",
        "\n",
        "print(tf2_new)\n",
        "\n",
        "\n",
        "#alternale \n",
        "#https://www.tensorflow.org/api_docs/python/tf/expand_dims\n",
        "\n",
        "tf2_new = tf.expand_dims(tf2,axis = 0) # extra dim added at begining \n",
        "print(tf2_new)\n",
        "\n",
        "tf2_new = tf.expand_dims(tf2,axis = -1)\n",
        "print(tf2_new)\n",
        "\n",
        "\n",
        "tf2_new = tf.expand_dims(tf2,axis = 1)\n",
        "print(tf2_new)"
      ],
      "metadata": {
        "colab": {
          "base_uri": "https://localhost:8080/"
        },
        "id": "29YBhqHQCaHY",
        "outputId": "b5601f7d-c228-41bd-8880-9c8b4fcd6ffb"
      },
      "execution_count": 61,
      "outputs": [
        {
          "output_type": "stream",
          "name": "stdout",
          "text": [
            "tf.Tensor([2 4], shape=(2,), dtype=int32)\n",
            "tf.Tensor(\n",
            "[[[1]\n",
            "  [2]]\n",
            "\n",
            " [[3]\n",
            "  [4]]], shape=(2, 2, 1), dtype=int32)\n",
            "tf.Tensor(\n",
            "[[[1 2]\n",
            "  [3 4]]], shape=(1, 2, 2), dtype=int32)\n",
            "tf.Tensor(\n",
            "[[[1]\n",
            "  [2]]\n",
            "\n",
            " [[3]\n",
            "  [4]]], shape=(2, 2, 1), dtype=int32)\n",
            "tf.Tensor(\n",
            "[[[1 2]]\n",
            "\n",
            " [[3 4]]], shape=(2, 1, 2), dtype=int32)\n"
          ]
        }
      ]
    },
    {
      "cell_type": "code",
      "source": [
        "# basic tensor operations \n",
        "# adding value to a tensor \n",
        "\n",
        "tfc = tf.constant([[10,7],[5,8]])\n",
        "\n",
        "print(tfc + 10) # original is not changed\n",
        "\n",
        "# some for other operators , /,*,- \n",
        "\n",
        "# can use built in libs for this\n",
        "\n",
        "print(tf.multiply(tfc,10)) # libs are faster in execution time \n",
        "# print(tfc)"
      ],
      "metadata": {
        "colab": {
          "base_uri": "https://localhost:8080/"
        },
        "id": "vOr7ni5eEd4M",
        "outputId": "3c233036-e847-409a-8d78-d5452346851e"
      },
      "execution_count": 67,
      "outputs": [
        {
          "output_type": "stream",
          "name": "stdout",
          "text": [
            "tf.Tensor(\n",
            "[[20 17]\n",
            " [15 18]], shape=(2, 2), dtype=int32)\n",
            "tf.Tensor(\n",
            "[[100  70]\n",
            " [ 50  80]], shape=(2, 2), dtype=int32)\n"
          ]
        }
      ]
    },
    {
      "cell_type": "code",
      "source": [
        "# matrix multiplication, tuesday"
      ],
      "metadata": {
        "id": "dRbbSDZIIZHZ"
      },
      "execution_count": null,
      "outputs": []
    }
  ]
}