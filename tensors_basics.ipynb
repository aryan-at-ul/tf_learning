{
  "nbformat": 4,
  "nbformat_minor": 0,
  "metadata": {
    "colab": {
      "name": "tensors_basics.ipynb",
      "provenance": [],
      "collapsed_sections": [],
      "authorship_tag": "ABX9TyPUBcGHQVX2+1SFI6B+6JnF",
      "include_colab_link": true
    },
    "kernelspec": {
      "name": "python3",
      "display_name": "Python 3"
    },
    "language_info": {
      "name": "python"
    },
    "accelerator": "GPU"
  },
  "cells": [
    {
      "cell_type": "markdown",
      "metadata": {
        "id": "view-in-github",
        "colab_type": "text"
      },
      "source": [
        "<a href=\"https://colab.research.google.com/github/aryan-at-ul/tf_learning/blob/main/tensors_basics.ipynb\" target=\"_parent\"><img src=\"https://colab.research.google.com/assets/colab-badge.svg\" alt=\"Open In Colab\"/></a>"
      ]
    },
    {
      "cell_type": "code",
      "execution_count": 1,
      "metadata": {
        "id": "4b5RQwj6cZ9O"
      },
      "outputs": [],
      "source": [
        "import tensorflow as tf"
      ]
    },
    {
      "cell_type": "code",
      "source": [
        "print(tf.__version__)"
      ],
      "metadata": {
        "colab": {
          "base_uri": "https://localhost:8080/"
        },
        "id": "rF9Twy5hcdEs",
        "outputId": "89d12521-c0f0-42ee-b896-257ab9fa0694"
      },
      "execution_count": 2,
      "outputs": [
        {
          "output_type": "stream",
          "name": "stdout",
          "text": [
            "2.8.0\n"
          ]
        }
      ]
    },
    {
      "cell_type": "code",
      "source": [
        "#constants in tensoflow, not very usefull  , unmutable in nature \n",
        "scalar = tf.constant(7)\n",
        "print(scalar) # note the shape is empty !! 0 order tensor \n",
        "# https://www.tensorflow.org/api_docs/python/tf/constant\n",
        "print(scalar.ndim)\n",
        "\n",
        "vector = tf.constant([10,11])\n",
        "print(vector)\n",
        "print(vector.ndim)\n",
        "\n",
        "\n",
        "matrix = tf.constant([[10,11],[12,13]])\n",
        "print(matrix)\n",
        "print(matrix.ndim)\n",
        "\n",
        "\n",
        "matrix2 = tf.constant([[10.,11.],[12.,13.]],dtype = \"float16\")\n",
        "print(matrix2)\n",
        "print(matrix2.ndim)\n",
        "\n",
        "\n",
        "tensor = tf.constant([[[1,2,3],\n",
        "                       [4,5,6]],\n",
        "                      [[1,2,3],\n",
        "                      [4,5,6]],\n",
        "                      [[1,2,3],\n",
        "                       [1,2,3],\n",
        "                       ]\n",
        "                      ])\n",
        "\n",
        "print(tensor)\n",
        "print(tensor.ndim)"
      ],
      "metadata": {
        "colab": {
          "base_uri": "https://localhost:8080/"
        },
        "id": "c5iUxnzYcycO",
        "outputId": "4e032ea3-1b40-49f2-a4b8-8fdff1480872"
      },
      "execution_count": 3,
      "outputs": [
        {
          "output_type": "stream",
          "name": "stdout",
          "text": [
            "tf.Tensor(7, shape=(), dtype=int32)\n",
            "0\n",
            "tf.Tensor([10 11], shape=(2,), dtype=int32)\n",
            "1\n",
            "tf.Tensor(\n",
            "[[10 11]\n",
            " [12 13]], shape=(2, 2), dtype=int32)\n",
            "2\n",
            "tf.Tensor(\n",
            "[[10. 11.]\n",
            " [12. 13.]], shape=(2, 2), dtype=float16)\n",
            "2\n",
            "tf.Tensor(\n",
            "[[[1 2 3]\n",
            "  [4 5 6]]\n",
            "\n",
            " [[1 2 3]\n",
            "  [4 5 6]]\n",
            "\n",
            " [[1 2 3]\n",
            "  [1 2 3]]], shape=(3, 2, 3), dtype=int32)\n",
            "3\n"
          ]
        }
      ]
    },
    {
      "cell_type": "code",
      "source": [
        "# tensor using variables  https://www.tensorflow.org/api_docs/python/tf/Variable\n",
        "#mutable tensor \n",
        "\n",
        "t1 = tf.Variable([10,7])\n",
        "# t2 = tf.Variable([12,12])\n",
        "t1[0].assign(7) # this is how you change elements in a tensor\n",
        "\n",
        "t1"
      ],
      "metadata": {
        "colab": {
          "base_uri": "https://localhost:8080/"
        },
        "id": "AuL4NVlUdJjB",
        "outputId": "f5254c6f-401d-4298-b42e-9e598452e943"
      },
      "execution_count": 4,
      "outputs": [
        {
          "output_type": "execute_result",
          "data": {
            "text/plain": [
              "<tf.Variable 'Variable:0' shape=(2,) dtype=int32, numpy=array([7, 7], dtype=int32)>"
            ]
          },
          "metadata": {},
          "execution_count": 4
        }
      ]
    },
    {
      "cell_type": "code",
      "source": [
        "# creating random tensors, for weights and stuff etc\n",
        "# https://www.tensorflow.org/api_docs/python/tf/random/uniform  or normal or maybe someother \n",
        "\n",
        "t1 = tf.random.Generator.from_seed(42) # check all possible stuff in Generator. fx\n",
        "t1 = t1.normal(shape = (3,3))\n",
        "print(t1)\n",
        "print(t1.ndim)\n",
        "\n",
        "t2 = tf.random.Generator.from_seed(42) \n",
        "t2 = t2.normal(shape = (3,3))\n",
        "\n",
        "t1, t2, t1 == t2  # this guy is true because we used that seed 42 while creating both tensors\n"
      ],
      "metadata": {
        "colab": {
          "base_uri": "https://localhost:8080/"
        },
        "id": "y4EOooYej4uM",
        "outputId": "6e1da71a-7ba4-4853-9852-b5bd66c006d7"
      },
      "execution_count": 5,
      "outputs": [
        {
          "output_type": "stream",
          "name": "stdout",
          "text": [
            "tf.Tensor(\n",
            "[[-0.7565803  -0.06854702  0.07595026]\n",
            " [-1.2573844  -0.23193765 -1.8107855 ]\n",
            " [ 0.09988727 -0.50998646 -0.7535806 ]], shape=(3, 3), dtype=float32)\n",
            "2\n"
          ]
        },
        {
          "output_type": "execute_result",
          "data": {
            "text/plain": [
              "(<tf.Tensor: shape=(3, 3), dtype=float32, numpy=\n",
              " array([[-0.7565803 , -0.06854702,  0.07595026],\n",
              "        [-1.2573844 , -0.23193765, -1.8107855 ],\n",
              "        [ 0.09988727, -0.50998646, -0.7535806 ]], dtype=float32)>,\n",
              " <tf.Tensor: shape=(3, 3), dtype=float32, numpy=\n",
              " array([[-0.7565803 , -0.06854702,  0.07595026],\n",
              "        [-1.2573844 , -0.23193765, -1.8107855 ],\n",
              "        [ 0.09988727, -0.50998646, -0.7535806 ]], dtype=float32)>,\n",
              " <tf.Tensor: shape=(3, 3), dtype=bool, numpy=\n",
              " array([[ True,  True,  True],\n",
              "        [ True,  True,  True],\n",
              "        [ True,  True,  True]])>)"
            ]
          },
          "metadata": {},
          "execution_count": 5
        }
      ]
    },
    {
      "cell_type": "code",
      "source": [
        "# shuffling the orders in tensors // part of manipulating the tensors !!! \n",
        "# shuffling comes handy when trying to think in terms of training data set, should be nice variation there so that network learns variety overt the data set \n",
        "#now listen to party anthem : Everyday I'm shuffling ,Shuffling, shuffling\n",
        "# https://www.tensorflow.org/api_docs/python/tf/random/shuffle\n",
        "print(t2)\n",
        "\n",
        "t3 = tf.random.shuffle(t2,seed = 42) # this way seed wont make a difference ok !!!  this is operation level seed, this used for randominzing\n",
        "\n",
        "print(t3)\n",
        "\n",
        "# tf.random.set_seed(42) # global level seed  IMPORTANT\n",
        "\n",
        "t3 = tf.random.shuffle(t2,seed = 42)\n",
        "\n",
        "print(t3)\n"
      ],
      "metadata": {
        "colab": {
          "base_uri": "https://localhost:8080/"
        },
        "id": "quNw8VjTmV5g",
        "outputId": "d011cb85-e44c-48ee-ced9-282b52038f97"
      },
      "execution_count": 6,
      "outputs": [
        {
          "output_type": "stream",
          "name": "stdout",
          "text": [
            "tf.Tensor(\n",
            "[[-0.7565803  -0.06854702  0.07595026]\n",
            " [-1.2573844  -0.23193765 -1.8107855 ]\n",
            " [ 0.09988727 -0.50998646 -0.7535806 ]], shape=(3, 3), dtype=float32)\n",
            "tf.Tensor(\n",
            "[[ 0.09988727 -0.50998646 -0.7535806 ]\n",
            " [-1.2573844  -0.23193765 -1.8107855 ]\n",
            " [-0.7565803  -0.06854702  0.07595026]], shape=(3, 3), dtype=float32)\n",
            "tf.Tensor(\n",
            "[[ 0.09988727 -0.50998646 -0.7535806 ]\n",
            " [-1.2573844  -0.23193765 -1.8107855 ]\n",
            " [-0.7565803  -0.06854702  0.07595026]], shape=(3, 3), dtype=float32)\n"
          ]
        }
      ]
    },
    {
      "cell_type": "code",
      "source": [
        "# creating tensors from numpy , very very important, jesus said that !!!\n",
        "import numpy as np\n",
        "t0 = tf.zeros([3,3])\n",
        "t1 = tf.ones([3,3])\n",
        "print(t0)\n",
        "print(t1)\n",
        "\n",
        "#converting numopy arrays into tensors \n",
        "\n",
        "na = np.arange(1,25,dtype = np.int32)\n",
        "print(\"numpy array:\",na)\n",
        "tna = tf.constant(na)\n",
        "print(\"tensor from numpy\",tna)\n",
        "\n",
        "tna = tf.constant(na, shape = (2,3,4))\n",
        "print(tna)\n",
        "\n",
        "tna = tf.constant(na, shape = (3,1,8))\n",
        "print(tna)\n",
        "\n",
        "# batches , each batch  and x and y value this is one ex like to create training data\n",
        "tna = tf.constant(na, shape = (3,4,2))\n",
        "print(tna)"
      ],
      "metadata": {
        "colab": {
          "base_uri": "https://localhost:8080/"
        },
        "id": "KIKUc7SpovYX",
        "outputId": "3aacbcd4-9b0c-4f38-e14d-8aa2fe479717"
      },
      "execution_count": 7,
      "outputs": [
        {
          "output_type": "stream",
          "name": "stdout",
          "text": [
            "tf.Tensor(\n",
            "[[0. 0. 0.]\n",
            " [0. 0. 0.]\n",
            " [0. 0. 0.]], shape=(3, 3), dtype=float32)\n",
            "tf.Tensor(\n",
            "[[1. 1. 1.]\n",
            " [1. 1. 1.]\n",
            " [1. 1. 1.]], shape=(3, 3), dtype=float32)\n",
            "numpy array: [ 1  2  3  4  5  6  7  8  9 10 11 12 13 14 15 16 17 18 19 20 21 22 23 24]\n",
            "tensor from numpy tf.Tensor([ 1  2  3  4  5  6  7  8  9 10 11 12 13 14 15 16 17 18 19 20 21 22 23 24], shape=(24,), dtype=int32)\n",
            "tf.Tensor(\n",
            "[[[ 1  2  3  4]\n",
            "  [ 5  6  7  8]\n",
            "  [ 9 10 11 12]]\n",
            "\n",
            " [[13 14 15 16]\n",
            "  [17 18 19 20]\n",
            "  [21 22 23 24]]], shape=(2, 3, 4), dtype=int32)\n",
            "tf.Tensor(\n",
            "[[[ 1  2  3  4  5  6  7  8]]\n",
            "\n",
            " [[ 9 10 11 12 13 14 15 16]]\n",
            "\n",
            " [[17 18 19 20 21 22 23 24]]], shape=(3, 1, 8), dtype=int32)\n",
            "tf.Tensor(\n",
            "[[[ 1  2]\n",
            "  [ 3  4]\n",
            "  [ 5  6]\n",
            "  [ 7  8]]\n",
            "\n",
            " [[ 9 10]\n",
            "  [11 12]\n",
            "  [13 14]\n",
            "  [15 16]]\n",
            "\n",
            " [[17 18]\n",
            "  [19 20]\n",
            "  [21 22]\n",
            "  [23 24]]], shape=(3, 4, 2), dtype=int32)\n"
          ]
        }
      ]
    },
    {
      "cell_type": "code",
      "source": [
        "# getting attribute information from a tensor \n",
        "# shape \n",
        "# rank (dimenstion)  this is not like rank of a matrix an all zero matrix will also have dim of 2, this is not matrix rank\n",
        "# axis \n",
        "# size , all elements in there\n",
        "\n",
        "\n",
        "tf4 = tf.zeros(shape = [2,3,4,5])\n",
        "print(tf4)\n",
        "\n",
        "print(tf4.shape)\n",
        "\n",
        "print(tf4.ndim)\n",
        "\n",
        "print(tf.size(tf4))\n",
        "\n",
        "\n",
        "print(tf4.dtype)\n",
        "\n",
        "\n",
        "print(tf4.shape[0]) # elements along 0 axis\n",
        "\n",
        "print(tf4.shape[-1]) # elements in last axis that is  i = 3 here "
      ],
      "metadata": {
        "colab": {
          "base_uri": "https://localhost:8080/"
        },
        "id": "ZrFe04Ci8hFN",
        "outputId": "06e6970d-df8a-48bc-d40a-c39a79260761"
      },
      "execution_count": 8,
      "outputs": [
        {
          "output_type": "stream",
          "name": "stdout",
          "text": [
            "tf.Tensor(\n",
            "[[[[0. 0. 0. 0. 0.]\n",
            "   [0. 0. 0. 0. 0.]\n",
            "   [0. 0. 0. 0. 0.]\n",
            "   [0. 0. 0. 0. 0.]]\n",
            "\n",
            "  [[0. 0. 0. 0. 0.]\n",
            "   [0. 0. 0. 0. 0.]\n",
            "   [0. 0. 0. 0. 0.]\n",
            "   [0. 0. 0. 0. 0.]]\n",
            "\n",
            "  [[0. 0. 0. 0. 0.]\n",
            "   [0. 0. 0. 0. 0.]\n",
            "   [0. 0. 0. 0. 0.]\n",
            "   [0. 0. 0. 0. 0.]]]\n",
            "\n",
            "\n",
            " [[[0. 0. 0. 0. 0.]\n",
            "   [0. 0. 0. 0. 0.]\n",
            "   [0. 0. 0. 0. 0.]\n",
            "   [0. 0. 0. 0. 0.]]\n",
            "\n",
            "  [[0. 0. 0. 0. 0.]\n",
            "   [0. 0. 0. 0. 0.]\n",
            "   [0. 0. 0. 0. 0.]\n",
            "   [0. 0. 0. 0. 0.]]\n",
            "\n",
            "  [[0. 0. 0. 0. 0.]\n",
            "   [0. 0. 0. 0. 0.]\n",
            "   [0. 0. 0. 0. 0.]\n",
            "   [0. 0. 0. 0. 0.]]]], shape=(2, 3, 4, 5), dtype=float32)\n",
            "(2, 3, 4, 5)\n",
            "4\n",
            "tf.Tensor(120, shape=(), dtype=int32)\n",
            "<dtype: 'float32'>\n",
            "2\n",
            "5\n"
          ]
        }
      ]
    },
    {
      "cell_type": "code",
      "source": [
        "# indexing tensors just like lists \n",
        "\n",
        "# get first 2 elements from each dimention \n",
        "\n",
        "print(tf4[:2,:2,:2,:2]) # slices 2 element in each dimention\n",
        "\n",
        "# get first elemnt from each except the final one \n",
        "\n",
        "print(tf4[:1,:1,:1,:]) # to practice more this is important"
      ],
      "metadata": {
        "colab": {
          "base_uri": "https://localhost:8080/"
        },
        "id": "tYgb46KtAonZ",
        "outputId": "8640776f-c06b-43a7-97b3-638abbee9762"
      },
      "execution_count": 9,
      "outputs": [
        {
          "output_type": "stream",
          "name": "stdout",
          "text": [
            "tf.Tensor(\n",
            "[[[[0. 0.]\n",
            "   [0. 0.]]\n",
            "\n",
            "  [[0. 0.]\n",
            "   [0. 0.]]]\n",
            "\n",
            "\n",
            " [[[0. 0.]\n",
            "   [0. 0.]]\n",
            "\n",
            "  [[0. 0.]\n",
            "   [0. 0.]]]], shape=(2, 2, 2, 2), dtype=float32)\n",
            "tf.Tensor([[[[0. 0. 0. 0. 0.]]]], shape=(1, 1, 1, 5), dtype=float32)\n"
          ]
        }
      ]
    },
    {
      "cell_type": "code",
      "source": [
        "#changing and adding dim in an exisitng tensor \n",
        "\n",
        "tf2 = tf.zeros(shape = [2,2])\n",
        "tf2 = tf.constant([[1,2],[3,4]])\n",
        "print(tf2)"
      ],
      "metadata": {
        "colab": {
          "base_uri": "https://localhost:8080/"
        },
        "id": "zxbX2cHxB7W4",
        "outputId": "9bd810a9-176f-4b7e-f6d9-6190092b2b5c"
      },
      "execution_count": 10,
      "outputs": [
        {
          "output_type": "stream",
          "name": "stdout",
          "text": [
            "tf.Tensor(\n",
            "[[1 2]\n",
            " [3 4]], shape=(2, 2), dtype=int32)\n"
          ]
        }
      ]
    },
    {
      "cell_type": "code",
      "source": [
        "print(tf2[:,-1]) # last elements last row elements\n",
        "\n",
        "# this https://stackoverflow.com/a/64312636/4416197 answer explains additon at end or start\n",
        "tf2_new = tf2[...,tf.newaxis] # this can be written as tf2[::::,tf.newaxis] but : should match nums of dimentions better to use 3 commas for all\n",
        "\n",
        "print(tf2_new)\n",
        "\n",
        "\n",
        "#alternale \n",
        "#https://www.tensorflow.org/api_docs/python/tf/expand_dims\n",
        "\n",
        "tf2_new = tf.expand_dims(tf2,axis = 0) # extra dim added at begining \n",
        "print(tf2_new)\n",
        "\n",
        "tf2_new = tf.expand_dims(tf2,axis = -1)\n",
        "print(tf2_new)\n",
        "\n",
        "\n",
        "tf2_new = tf.expand_dims(tf2,axis = 1)\n",
        "print(tf2_new)"
      ],
      "metadata": {
        "colab": {
          "base_uri": "https://localhost:8080/"
        },
        "id": "29YBhqHQCaHY",
        "outputId": "eb979181-b385-4b3b-ab9c-fb3e68048fbc"
      },
      "execution_count": 11,
      "outputs": [
        {
          "output_type": "stream",
          "name": "stdout",
          "text": [
            "tf.Tensor([2 4], shape=(2,), dtype=int32)\n",
            "tf.Tensor(\n",
            "[[[1]\n",
            "  [2]]\n",
            "\n",
            " [[3]\n",
            "  [4]]], shape=(2, 2, 1), dtype=int32)\n",
            "tf.Tensor(\n",
            "[[[1 2]\n",
            "  [3 4]]], shape=(1, 2, 2), dtype=int32)\n",
            "tf.Tensor(\n",
            "[[[1]\n",
            "  [2]]\n",
            "\n",
            " [[3]\n",
            "  [4]]], shape=(2, 2, 1), dtype=int32)\n",
            "tf.Tensor(\n",
            "[[[1 2]]\n",
            "\n",
            " [[3 4]]], shape=(2, 1, 2), dtype=int32)\n"
          ]
        }
      ]
    },
    {
      "cell_type": "code",
      "source": [
        "# basic tensor operations \n",
        "# adding value to a tensor \n",
        "\n",
        "tfc = tf.constant([[10,7],[5,8]])\n",
        "\n",
        "print(tfc + 10) # original is not changed\n",
        "\n",
        "# some for other operators , /,*,- \n",
        "\n",
        "# can use built in libs for this\n",
        "\n",
        "print(tf.multiply(tfc,10)) # libs are faster in execution time \n",
        "# print(tfc)"
      ],
      "metadata": {
        "colab": {
          "base_uri": "https://localhost:8080/"
        },
        "id": "vOr7ni5eEd4M",
        "outputId": "0850af40-005b-4acd-daf4-fea8f61617e1"
      },
      "execution_count": 12,
      "outputs": [
        {
          "output_type": "stream",
          "name": "stdout",
          "text": [
            "tf.Tensor(\n",
            "[[20 17]\n",
            " [15 18]], shape=(2, 2), dtype=int32)\n",
            "tf.Tensor(\n",
            "[[100  70]\n",
            " [ 50  80]], shape=(2, 2), dtype=int32)\n"
          ]
        }
      ]
    },
    {
      "cell_type": "code",
      "source": [
        "# matrix multiplication, tuesday\n",
        "#https://www.tensorflow.org/api_docs/python/tf/linalg/matmul\n",
        "\n",
        "tf.matmul(tfc,tfc)"
      ],
      "metadata": {
        "colab": {
          "base_uri": "https://localhost:8080/"
        },
        "id": "dRbbSDZIIZHZ",
        "outputId": "09117881-50ea-470e-8f1d-bc64c364e336"
      },
      "execution_count": 13,
      "outputs": [
        {
          "output_type": "execute_result",
          "data": {
            "text/plain": [
              "<tf.Tensor: shape=(2, 2), dtype=int32, numpy=\n",
              "array([[135, 126],\n",
              "       [ 90,  99]], dtype=int32)>"
            ]
          },
          "metadata": {},
          "execution_count": 13
        }
      ]
    },
    {
      "cell_type": "code",
      "source": [
        "tf1 = tf.constant([[1,2,3],[3,4,5],[6,0,0]])\n",
        "tf2 = tf.constant([[1,2],[0,0],[1,1]])\n",
        "\n",
        "tf.matmul(tf1,tf2)"
      ],
      "metadata": {
        "colab": {
          "base_uri": "https://localhost:8080/"
        },
        "id": "-DCjno1oIkMP",
        "outputId": "adc48b16-744d-4f6a-eae8-2f643c8f51fd"
      },
      "execution_count": 14,
      "outputs": [
        {
          "output_type": "execute_result",
          "data": {
            "text/plain": [
              "<tf.Tensor: shape=(3, 2), dtype=int32, numpy=\n",
              "array([[ 4,  5],\n",
              "       [ 8, 11],\n",
              "       [ 6, 12]], dtype=int32)>"
            ]
          },
          "metadata": {},
          "execution_count": 14
        }
      ]
    },
    {
      "cell_type": "code",
      "source": [
        "#change datatype of tensor \n",
        "\n",
        "tf1 = tf.zeros(shape= [2,3])\n",
        "print(tf1)\n",
        "\n",
        "tf2 = tf.cast(tf1,dtype = tf.float16)\n",
        "print(tf2)"
      ],
      "metadata": {
        "colab": {
          "base_uri": "https://localhost:8080/"
        },
        "id": "juEPMEjTLOyt",
        "outputId": "d9a192ad-7592-4b0f-c64a-7df11348a794"
      },
      "execution_count": 15,
      "outputs": [
        {
          "output_type": "stream",
          "name": "stdout",
          "text": [
            "tf.Tensor(\n",
            "[[0. 0. 0.]\n",
            " [0. 0. 0.]], shape=(2, 3), dtype=float32)\n",
            "tf.Tensor(\n",
            "[[0. 0. 0.]\n",
            " [0. 0. 0.]], shape=(2, 3), dtype=float16)\n"
          ]
        }
      ]
    },
    {
      "cell_type": "code",
      "source": [
        "# tensor finding min and max in a tensor , aggregation\n",
        "\n",
        "#get the absolute values , useless \n",
        "\n",
        "t = tf.constant([[-3.,-10.]])\n",
        "print(tf.abs(t))\n",
        "\n",
        "# get min max mean ans sum\n",
        "print(tf.reduce_min(t))\n",
        "print(tf.reduce_max(t))\n",
        "print(tf.reduce_mean(t))\n",
        "print(tf.reduce_sum(t))\n",
        "\n",
        "#there is tfp if dtype is not converned else tf.math.reduce_variance for std"
      ],
      "metadata": {
        "colab": {
          "base_uri": "https://localhost:8080/"
        },
        "id": "TANd6cswMEMu",
        "outputId": "832043bc-f361-4dab-f949-4c58be2a1633"
      },
      "execution_count": 16,
      "outputs": [
        {
          "output_type": "stream",
          "name": "stdout",
          "text": [
            "tf.Tensor([[ 3. 10.]], shape=(1, 2), dtype=float32)\n",
            "tf.Tensor(-10.0, shape=(), dtype=float32)\n",
            "tf.Tensor(-3.0, shape=(), dtype=float32)\n",
            "tf.Tensor(-6.5, shape=(), dtype=float32)\n",
            "tf.Tensor(-13.0, shape=(), dtype=float32)\n"
          ]
        }
      ]
    },
    {
      "cell_type": "code",
      "source": [
        "#find positional min max of a tensor\n",
        "\n",
        "t = tf.random.uniform(shape = [50])\n",
        "print(t)\n",
        "\n",
        "# index of max element , used in getting claasified class after softmx\n",
        "\n",
        "print(tf.argmax(t))\n",
        "\n",
        "#index on our larget value \n",
        "\n",
        "print(t[tf.argmax(t)])\n",
        "\n",
        "print(tf.reduce_max(t))\n",
        "\n",
        "#similar for argmin \n"
      ],
      "metadata": {
        "colab": {
          "base_uri": "https://localhost:8080/"
        },
        "id": "NwUfEsgcOos3",
        "outputId": "7ec068c1-0dbc-40b2-c7e9-1a3ac2aeac7c"
      },
      "execution_count": 17,
      "outputs": [
        {
          "output_type": "stream",
          "name": "stdout",
          "text": [
            "tf.Tensor(\n",
            "[0.20180166 0.02993655 0.29874313 0.05900979 0.5658611  0.95510876\n",
            " 0.741681   0.80384326 0.24423528 0.48716223 0.4281559  0.01976371\n",
            " 0.66755164 0.6426437  0.84699893 0.4989885  0.20904541 0.22064817\n",
            " 0.62735474 0.8279309  0.79675996 0.13413322 0.17015791 0.34593034\n",
            " 0.8060794  0.9169941  0.96743405 0.91735625 0.14375842 0.81203616\n",
            " 0.6019386  0.5719905  0.2493993  0.7753123  0.8230903  0.03962934\n",
            " 0.08865273 0.8446951  0.80418336 0.22604156 0.96647835 0.694126\n",
            " 0.6496471  0.3185451  0.85347927 0.07468915 0.23809493 0.6519022\n",
            " 0.27941263 0.25375998], shape=(50,), dtype=float32)\n",
            "tf.Tensor(26, shape=(), dtype=int64)\n",
            "tf.Tensor(0.96743405, shape=(), dtype=float32)\n",
            "tf.Tensor(0.96743405, shape=(), dtype=float32)\n"
          ]
        }
      ]
    },
    {
      "cell_type": "code",
      "source": [
        "#squeezing a tensor , removing all single dimention \n",
        "\n",
        "t = tf.constant(tf.random.uniform(shape=[50]),shape = (1,1,1,1,50))\n",
        "print(t)"
      ],
      "metadata": {
        "colab": {
          "base_uri": "https://localhost:8080/"
        },
        "id": "jUVHGr1FQXnH",
        "outputId": "2d15ea48-c303-40b3-dc37-53581ecf6bfd"
      },
      "execution_count": 18,
      "outputs": [
        {
          "output_type": "stream",
          "name": "stdout",
          "text": [
            "tf.Tensor(\n",
            "[[[[[0.41150475 0.3257829  0.7080709  0.11352336 0.32682812 0.30486846\n",
            "     0.23868585 0.2636211  0.5658953  0.36017644 0.75039196 0.03576338\n",
            "     0.1492691  0.12522829 0.67341423 0.05706739 0.29139876 0.22187865\n",
            "     0.8204479  0.23373115 0.35571718 0.09945822 0.24636054 0.9221815\n",
            "     0.15445518 0.16265392 0.6043472  0.14161384 0.70709455 0.5286578\n",
            "     0.6555886  0.00974333 0.8676162  0.23223698 0.01577353 0.83913255\n",
            "     0.6483557  0.81520677 0.9677216  0.08437061 0.71206796 0.21761584\n",
            "     0.30135286 0.5154525  0.43339407 0.9390893  0.28302848 0.6430999\n",
            "     0.31236076 0.99156487]]]]], shape=(1, 1, 1, 1, 50), dtype=float32)\n"
          ]
        }
      ]
    },
    {
      "cell_type": "code",
      "source": [
        "t_sq = tf.squeeze(t)\n",
        "print(t_sq) # this operation is very important "
      ],
      "metadata": {
        "colab": {
          "base_uri": "https://localhost:8080/"
        },
        "id": "BnUQmp7OQ8cW",
        "outputId": "7e2f54b8-3293-4892-8f38-2c6a73bcb593"
      },
      "execution_count": 19,
      "outputs": [
        {
          "output_type": "stream",
          "name": "stdout",
          "text": [
            "tf.Tensor(\n",
            "[0.41150475 0.3257829  0.7080709  0.11352336 0.32682812 0.30486846\n",
            " 0.23868585 0.2636211  0.5658953  0.36017644 0.75039196 0.03576338\n",
            " 0.1492691  0.12522829 0.67341423 0.05706739 0.29139876 0.22187865\n",
            " 0.8204479  0.23373115 0.35571718 0.09945822 0.24636054 0.9221815\n",
            " 0.15445518 0.16265392 0.6043472  0.14161384 0.70709455 0.5286578\n",
            " 0.6555886  0.00974333 0.8676162  0.23223698 0.01577353 0.83913255\n",
            " 0.6483557  0.81520677 0.9677216  0.08437061 0.71206796 0.21761584\n",
            " 0.30135286 0.5154525  0.43339407 0.9390893  0.28302848 0.6430999\n",
            " 0.31236076 0.99156487], shape=(50,), dtype=float32)\n"
          ]
        }
      ]
    },
    {
      "cell_type": "code",
      "source": [
        "# one hot encoding , very important , this one is hot \n",
        "\n",
        "alist = [0,1,2,3,4,3] # one hot encode this list of indexed \n",
        "\n",
        "ahotlist = tf.one_hot(alist, depth = 4)\n",
        "\n",
        "print(ahotlist)\n",
        "\n",
        "# we can have custom value for one hot encoding \n",
        "\n",
        "\n",
        "print(tf.one_hot(alist,depth = 4, on_value = \"on\", off_value = \"off\")) # this is useless but helpful at the time of visualization etc "
      ],
      "metadata": {
        "colab": {
          "base_uri": "https://localhost:8080/"
        },
        "id": "j-EZpnHnRNby",
        "outputId": "ec4817c2-7524-4e74-d0de-118c6fc1196f"
      },
      "execution_count": 20,
      "outputs": [
        {
          "output_type": "stream",
          "name": "stdout",
          "text": [
            "tf.Tensor(\n",
            "[[1. 0. 0. 0.]\n",
            " [0. 1. 0. 0.]\n",
            " [0. 0. 1. 0.]\n",
            " [0. 0. 0. 1.]\n",
            " [0. 0. 0. 0.]\n",
            " [0. 0. 0. 1.]], shape=(6, 4), dtype=float32)\n",
            "tf.Tensor(\n",
            "[[b'on' b'off' b'off' b'off']\n",
            " [b'off' b'on' b'off' b'off']\n",
            " [b'off' b'off' b'on' b'off']\n",
            " [b'off' b'off' b'off' b'on']\n",
            " [b'off' b'off' b'off' b'off']\n",
            " [b'off' b'off' b'off' b'on']], shape=(6, 4), dtype=string)\n"
          ]
        }
      ]
    },
    {
      "cell_type": "code",
      "source": [
        "# some more maths operations on tensors \n",
        "\n",
        "#square \n",
        "print(tf.square(tf.squeeze(t)))\n",
        "print(tf.sqrt(tf.squeeze(t)))\n",
        "print(tf.math.log(tf.squeeze(t)))\n",
        "\n",
        "# tensor created from numpy arrays are float64 type and from array they are float32 !!!!!!!!!!!"
      ],
      "metadata": {
        "colab": {
          "base_uri": "https://localhost:8080/"
        },
        "id": "x72ZO3OMSnMz",
        "outputId": "251392a7-41f3-4cd4-90fe-12562a8a52d7"
      },
      "execution_count": 21,
      "outputs": [
        {
          "output_type": "stream",
          "name": "stdout",
          "text": [
            "tf.Tensor(\n",
            "[1.6933616e-01 1.0613450e-01 5.0136435e-01 1.2887554e-02 1.0681662e-01\n",
            " 9.2944779e-02 5.6970932e-02 6.9496080e-02 3.2023752e-01 1.2972707e-01\n",
            " 5.6308812e-01 1.2790195e-03 2.2281265e-02 1.5682124e-02 4.5348671e-01\n",
            " 3.2566874e-03 8.4913239e-02 4.9230136e-02 6.7313480e-01 5.4630250e-02\n",
            " 1.2653472e-01 9.8919375e-03 6.0693517e-02 8.5041869e-01 2.3856403e-02\n",
            " 2.6456298e-02 3.6523557e-01 2.0054480e-02 4.9998271e-01 2.7947906e-01\n",
            " 4.2979646e-01 9.4932533e-05 7.5275785e-01 5.3934015e-02 2.4880440e-04\n",
            " 7.0414340e-01 4.2036515e-01 6.6456205e-01 9.3648505e-01 7.1184002e-03\n",
            " 5.0704080e-01 4.7356654e-02 9.0813547e-02 2.6569128e-01 1.8783042e-01\n",
            " 8.8188869e-01 8.0105126e-02 4.1357750e-01 9.7569250e-02 9.8320091e-01], shape=(50,), dtype=float32)\n",
            "tf.Tensor(\n",
            "[0.64148635 0.57077396 0.84146947 0.33693227 0.57168883 0.55214894\n",
            " 0.48855484 0.51344043 0.75226015 0.600147   0.86625165 0.18911208\n",
            " 0.38635358 0.35387608 0.8206182  0.23888783 0.53981364 0.47103995\n",
            " 0.9057858  0.48345748 0.5964203  0.31536996 0.4963472  0.96030277\n",
            " 0.39300787 0.40330374 0.7773977  0.37631613 0.84088916 0.7270886\n",
            " 0.8096843  0.09870832 0.9314591  0.48190972 0.12559274 0.9160418\n",
            " 0.8052054  0.902888   0.9837284  0.2904662  0.8438412  0.46649313\n",
            " 0.54895616 0.7179502  0.6583267  0.9690662  0.5320042  0.8019351\n",
            " 0.5588924  0.9957735 ], shape=(50,), dtype=float32)\n",
            "tf.Tensor(\n",
            "[-0.88793474 -1.1215241  -0.3452111  -2.1757467  -1.118321   -1.1878749\n",
            " -1.432607   -1.3332424  -0.5693462  -1.0211613  -0.2871596  -3.3308308\n",
            " -1.9020045  -2.077617   -0.39539465 -2.8635223  -1.2330626  -1.5056247\n",
            " -0.19790484 -1.4535837  -1.0336193  -2.3080177  -1.4009593  -0.08101323\n",
            " -1.8678513  -1.8161305  -0.5036064  -1.9546514  -0.34659088 -0.637414\n",
            " -0.42222178 -4.631172   -0.14200586 -1.4599969  -4.1494217  -0.17538661\n",
            " -0.43331578 -0.2043135  -0.03281086 -2.472536   -0.33958194 -1.5250239\n",
            " -1.1994734  -0.66271013 -0.83610785 -0.0628447  -1.2622077  -0.4414552\n",
            " -1.1635965  -0.00847091], shape=(50,), dtype=float32)\n"
          ]
        }
      ]
    },
    {
      "cell_type": "code",
      "source": [
        "# gpu ? \n",
        "\n",
        "print(tf.config.list_physical_devices())\n",
        "\n",
        "!nvidia-smi"
      ],
      "metadata": {
        "colab": {
          "base_uri": "https://localhost:8080/"
        },
        "id": "BvUhE5a3XRxG",
        "outputId": "26dd5f1c-f6d7-43ce-e019-fe72566b40c7"
      },
      "execution_count": 22,
      "outputs": [
        {
          "output_type": "stream",
          "name": "stdout",
          "text": [
            "[PhysicalDevice(name='/physical_device:CPU:0', device_type='CPU'), PhysicalDevice(name='/physical_device:GPU:0', device_type='GPU')]\n",
            "Tue Apr 19 15:12:29 2022       \n",
            "+-----------------------------------------------------------------------------+\n",
            "| NVIDIA-SMI 460.32.03    Driver Version: 460.32.03    CUDA Version: 11.2     |\n",
            "|-------------------------------+----------------------+----------------------+\n",
            "| GPU  Name        Persistence-M| Bus-Id        Disp.A | Volatile Uncorr. ECC |\n",
            "| Fan  Temp  Perf  Pwr:Usage/Cap|         Memory-Usage | GPU-Util  Compute M. |\n",
            "|                               |                      |               MIG M. |\n",
            "|===============================+======================+======================|\n",
            "|   0  Tesla T4            Off  | 00000000:00:04.0 Off |                    0 |\n",
            "| N/A   47C    P0    27W /  70W |    266MiB / 15109MiB |      0%      Default |\n",
            "|                               |                      |                  N/A |\n",
            "+-------------------------------+----------------------+----------------------+\n",
            "                                                                               \n",
            "+-----------------------------------------------------------------------------+\n",
            "| Processes:                                                                  |\n",
            "|  GPU   GI   CI        PID   Type   Process name                  GPU Memory |\n",
            "|        ID   ID                                                   Usage      |\n",
            "|=============================================================================|\n",
            "+-----------------------------------------------------------------------------+\n"
          ]
        }
      ]
    }
  ]
}